{
  "nbformat": 4,
  "nbformat_minor": 0,
  "metadata": {
    "colab": {
      "provenance": [],
      "gpuType": "T4"
    },
    "kernelspec": {
      "name": "python3",
      "display_name": "Python 3"
    },
    "language_info": {
      "name": "python"
    },
    "accelerator": "GPU"
  },
  "cells": [
    {
      "cell_type": "code",
      "execution_count": 1,
      "metadata": {
        "colab": {
          "base_uri": "https://localhost:8080/"
        },
        "id": "DGjh-4zA4vd_",
        "outputId": "5d1b95f3-73e6-4480-95b3-a2a6b09c0e1b"
      },
      "outputs": [
        {
          "output_type": "stream",
          "name": "stdout",
          "text": [
            "Requirement already satisfied: qdrant-client in /usr/local/lib/python3.10/dist-packages (1.8.2)\n",
            "Requirement already satisfied: grpcio>=1.41.0 in /usr/local/lib/python3.10/dist-packages (from qdrant-client) (1.62.1)\n",
            "Requirement already satisfied: grpcio-tools>=1.41.0 in /usr/local/lib/python3.10/dist-packages (from qdrant-client) (1.62.1)\n",
            "Requirement already satisfied: httpx[http2]>=0.20.0 in /usr/local/lib/python3.10/dist-packages (from qdrant-client) (0.27.0)\n",
            "Requirement already satisfied: numpy>=1.21 in /usr/local/lib/python3.10/dist-packages (from qdrant-client) (1.25.2)\n",
            "Requirement already satisfied: portalocker<3.0.0,>=2.7.0 in /usr/local/lib/python3.10/dist-packages (from qdrant-client) (2.8.2)\n",
            "Requirement already satisfied: pydantic>=1.10.8 in /usr/local/lib/python3.10/dist-packages (from qdrant-client) (2.6.4)\n",
            "Requirement already satisfied: urllib3<3,>=1.26.14 in /usr/local/lib/python3.10/dist-packages (from qdrant-client) (2.0.7)\n",
            "Requirement already satisfied: protobuf<5.0dev,>=4.21.6 in /usr/local/lib/python3.10/dist-packages (from grpcio-tools>=1.41.0->qdrant-client) (4.25.3)\n",
            "Requirement already satisfied: setuptools in /usr/local/lib/python3.10/dist-packages (from grpcio-tools>=1.41.0->qdrant-client) (67.7.2)\n",
            "Requirement already satisfied: anyio in /usr/local/lib/python3.10/dist-packages (from httpx[http2]>=0.20.0->qdrant-client) (3.7.1)\n",
            "Requirement already satisfied: certifi in /usr/local/lib/python3.10/dist-packages (from httpx[http2]>=0.20.0->qdrant-client) (2024.2.2)\n",
            "Requirement already satisfied: httpcore==1.* in /usr/local/lib/python3.10/dist-packages (from httpx[http2]>=0.20.0->qdrant-client) (1.0.5)\n",
            "Requirement already satisfied: idna in /usr/local/lib/python3.10/dist-packages (from httpx[http2]>=0.20.0->qdrant-client) (3.6)\n",
            "Requirement already satisfied: sniffio in /usr/local/lib/python3.10/dist-packages (from httpx[http2]>=0.20.0->qdrant-client) (1.3.1)\n",
            "Requirement already satisfied: h2<5,>=3 in /usr/local/lib/python3.10/dist-packages (from httpx[http2]>=0.20.0->qdrant-client) (4.1.0)\n",
            "Requirement already satisfied: h11<0.15,>=0.13 in /usr/local/lib/python3.10/dist-packages (from httpcore==1.*->httpx[http2]>=0.20.0->qdrant-client) (0.14.0)\n",
            "Requirement already satisfied: annotated-types>=0.4.0 in /usr/local/lib/python3.10/dist-packages (from pydantic>=1.10.8->qdrant-client) (0.6.0)\n",
            "Requirement already satisfied: pydantic-core==2.16.3 in /usr/local/lib/python3.10/dist-packages (from pydantic>=1.10.8->qdrant-client) (2.16.3)\n",
            "Requirement already satisfied: typing-extensions>=4.6.1 in /usr/local/lib/python3.10/dist-packages (from pydantic>=1.10.8->qdrant-client) (4.10.0)\n",
            "Requirement already satisfied: hyperframe<7,>=6.0 in /usr/local/lib/python3.10/dist-packages (from h2<5,>=3->httpx[http2]>=0.20.0->qdrant-client) (6.0.1)\n",
            "Requirement already satisfied: hpack<5,>=4.0 in /usr/local/lib/python3.10/dist-packages (from h2<5,>=3->httpx[http2]>=0.20.0->qdrant-client) (4.0.0)\n",
            "Requirement already satisfied: exceptiongroup in /usr/local/lib/python3.10/dist-packages (from anyio->httpx[http2]>=0.20.0->qdrant-client) (1.2.0)\n",
            "Requirement already satisfied: langchain in /usr/local/lib/python3.10/dist-packages (0.1.13)\n",
            "Requirement already satisfied: PyYAML>=5.3 in /usr/local/lib/python3.10/dist-packages (from langchain) (6.0.1)\n",
            "Requirement already satisfied: SQLAlchemy<3,>=1.4 in /usr/local/lib/python3.10/dist-packages (from langchain) (2.0.29)\n",
            "Requirement already satisfied: aiohttp<4.0.0,>=3.8.3 in /usr/local/lib/python3.10/dist-packages (from langchain) (3.9.3)\n",
            "Requirement already satisfied: async-timeout<5.0.0,>=4.0.0 in /usr/local/lib/python3.10/dist-packages (from langchain) (4.0.3)\n",
            "Requirement already satisfied: dataclasses-json<0.7,>=0.5.7 in /usr/local/lib/python3.10/dist-packages (from langchain) (0.6.4)\n",
            "Requirement already satisfied: jsonpatch<2.0,>=1.33 in /usr/local/lib/python3.10/dist-packages (from langchain) (1.33)\n",
            "Requirement already satisfied: langchain-community<0.1,>=0.0.29 in /usr/local/lib/python3.10/dist-packages (from langchain) (0.0.29)\n",
            "Requirement already satisfied: langchain-core<0.2.0,>=0.1.33 in /usr/local/lib/python3.10/dist-packages (from langchain) (0.1.36)\n",
            "Requirement already satisfied: langchain-text-splitters<0.1,>=0.0.1 in /usr/local/lib/python3.10/dist-packages (from langchain) (0.0.1)\n",
            "Requirement already satisfied: langsmith<0.2.0,>=0.1.17 in /usr/local/lib/python3.10/dist-packages (from langchain) (0.1.38)\n",
            "Requirement already satisfied: numpy<2,>=1 in /usr/local/lib/python3.10/dist-packages (from langchain) (1.25.2)\n",
            "Requirement already satisfied: pydantic<3,>=1 in /usr/local/lib/python3.10/dist-packages (from langchain) (2.6.4)\n",
            "Requirement already satisfied: requests<3,>=2 in /usr/local/lib/python3.10/dist-packages (from langchain) (2.31.0)\n",
            "Requirement already satisfied: tenacity<9.0.0,>=8.1.0 in /usr/local/lib/python3.10/dist-packages (from langchain) (8.2.3)\n",
            "Requirement already satisfied: aiosignal>=1.1.2 in /usr/local/lib/python3.10/dist-packages (from aiohttp<4.0.0,>=3.8.3->langchain) (1.3.1)\n",
            "Requirement already satisfied: attrs>=17.3.0 in /usr/local/lib/python3.10/dist-packages (from aiohttp<4.0.0,>=3.8.3->langchain) (23.2.0)\n",
            "Requirement already satisfied: frozenlist>=1.1.1 in /usr/local/lib/python3.10/dist-packages (from aiohttp<4.0.0,>=3.8.3->langchain) (1.4.1)\n",
            "Requirement already satisfied: multidict<7.0,>=4.5 in /usr/local/lib/python3.10/dist-packages (from aiohttp<4.0.0,>=3.8.3->langchain) (6.0.5)\n",
            "Requirement already satisfied: yarl<2.0,>=1.0 in /usr/local/lib/python3.10/dist-packages (from aiohttp<4.0.0,>=3.8.3->langchain) (1.9.4)\n",
            "Requirement already satisfied: marshmallow<4.0.0,>=3.18.0 in /usr/local/lib/python3.10/dist-packages (from dataclasses-json<0.7,>=0.5.7->langchain) (3.21.1)\n",
            "Requirement already satisfied: typing-inspect<1,>=0.4.0 in /usr/local/lib/python3.10/dist-packages (from dataclasses-json<0.7,>=0.5.7->langchain) (0.9.0)\n",
            "Requirement already satisfied: jsonpointer>=1.9 in /usr/local/lib/python3.10/dist-packages (from jsonpatch<2.0,>=1.33->langchain) (2.4)\n",
            "Requirement already satisfied: packaging<24.0,>=23.2 in /usr/local/lib/python3.10/dist-packages (from langchain-core<0.2.0,>=0.1.33->langchain) (23.2)\n",
            "Requirement already satisfied: orjson<4.0.0,>=3.9.14 in /usr/local/lib/python3.10/dist-packages (from langsmith<0.2.0,>=0.1.17->langchain) (3.10.0)\n",
            "Requirement already satisfied: annotated-types>=0.4.0 in /usr/local/lib/python3.10/dist-packages (from pydantic<3,>=1->langchain) (0.6.0)\n",
            "Requirement already satisfied: pydantic-core==2.16.3 in /usr/local/lib/python3.10/dist-packages (from pydantic<3,>=1->langchain) (2.16.3)\n",
            "Requirement already satisfied: typing-extensions>=4.6.1 in /usr/local/lib/python3.10/dist-packages (from pydantic<3,>=1->langchain) (4.10.0)\n",
            "Requirement already satisfied: charset-normalizer<4,>=2 in /usr/local/lib/python3.10/dist-packages (from requests<3,>=2->langchain) (3.3.2)\n",
            "Requirement already satisfied: idna<4,>=2.5 in /usr/local/lib/python3.10/dist-packages (from requests<3,>=2->langchain) (3.6)\n",
            "Requirement already satisfied: urllib3<3,>=1.21.1 in /usr/local/lib/python3.10/dist-packages (from requests<3,>=2->langchain) (2.0.7)\n",
            "Requirement already satisfied: certifi>=2017.4.17 in /usr/local/lib/python3.10/dist-packages (from requests<3,>=2->langchain) (2024.2.2)\n",
            "Requirement already satisfied: greenlet!=0.4.17 in /usr/local/lib/python3.10/dist-packages (from SQLAlchemy<3,>=1.4->langchain) (3.0.3)\n",
            "Requirement already satisfied: mypy-extensions>=0.3.0 in /usr/local/lib/python3.10/dist-packages (from typing-inspect<1,>=0.4.0->dataclasses-json<0.7,>=0.5.7->langchain) (1.0.0)\n",
            "Requirement already satisfied: sentence-transformers in /usr/local/lib/python3.10/dist-packages (2.6.1)\n",
            "Requirement already satisfied: transformers<5.0.0,>=4.32.0 in /usr/local/lib/python3.10/dist-packages (from sentence-transformers) (4.38.2)\n",
            "Requirement already satisfied: tqdm in /usr/local/lib/python3.10/dist-packages (from sentence-transformers) (4.66.2)\n",
            "Requirement already satisfied: torch>=1.11.0 in /usr/local/lib/python3.10/dist-packages (from sentence-transformers) (2.2.1+cu121)\n",
            "Requirement already satisfied: numpy in /usr/local/lib/python3.10/dist-packages (from sentence-transformers) (1.25.2)\n",
            "Requirement already satisfied: scikit-learn in /usr/local/lib/python3.10/dist-packages (from sentence-transformers) (1.2.2)\n",
            "Requirement already satisfied: scipy in /usr/local/lib/python3.10/dist-packages (from sentence-transformers) (1.11.4)\n",
            "Requirement already satisfied: huggingface-hub>=0.15.1 in /usr/local/lib/python3.10/dist-packages (from sentence-transformers) (0.20.3)\n",
            "Requirement already satisfied: Pillow in /usr/local/lib/python3.10/dist-packages (from sentence-transformers) (9.4.0)\n",
            "Requirement already satisfied: filelock in /usr/local/lib/python3.10/dist-packages (from huggingface-hub>=0.15.1->sentence-transformers) (3.13.3)\n",
            "Requirement already satisfied: fsspec>=2023.5.0 in /usr/local/lib/python3.10/dist-packages (from huggingface-hub>=0.15.1->sentence-transformers) (2023.6.0)\n",
            "Requirement already satisfied: requests in /usr/local/lib/python3.10/dist-packages (from huggingface-hub>=0.15.1->sentence-transformers) (2.31.0)\n",
            "Requirement already satisfied: pyyaml>=5.1 in /usr/local/lib/python3.10/dist-packages (from huggingface-hub>=0.15.1->sentence-transformers) (6.0.1)\n",
            "Requirement already satisfied: typing-extensions>=3.7.4.3 in /usr/local/lib/python3.10/dist-packages (from huggingface-hub>=0.15.1->sentence-transformers) (4.10.0)\n",
            "Requirement already satisfied: packaging>=20.9 in /usr/local/lib/python3.10/dist-packages (from huggingface-hub>=0.15.1->sentence-transformers) (23.2)\n",
            "Requirement already satisfied: sympy in /usr/local/lib/python3.10/dist-packages (from torch>=1.11.0->sentence-transformers) (1.12)\n",
            "Requirement already satisfied: networkx in /usr/local/lib/python3.10/dist-packages (from torch>=1.11.0->sentence-transformers) (3.2.1)\n",
            "Requirement already satisfied: jinja2 in /usr/local/lib/python3.10/dist-packages (from torch>=1.11.0->sentence-transformers) (3.1.3)\n",
            "Requirement already satisfied: nvidia-cuda-nvrtc-cu12==12.1.105 in /usr/local/lib/python3.10/dist-packages (from torch>=1.11.0->sentence-transformers) (12.1.105)\n",
            "Requirement already satisfied: nvidia-cuda-runtime-cu12==12.1.105 in /usr/local/lib/python3.10/dist-packages (from torch>=1.11.0->sentence-transformers) (12.1.105)\n",
            "Requirement already satisfied: nvidia-cuda-cupti-cu12==12.1.105 in /usr/local/lib/python3.10/dist-packages (from torch>=1.11.0->sentence-transformers) (12.1.105)\n",
            "Requirement already satisfied: nvidia-cudnn-cu12==8.9.2.26 in /usr/local/lib/python3.10/dist-packages (from torch>=1.11.0->sentence-transformers) (8.9.2.26)\n",
            "Requirement already satisfied: nvidia-cublas-cu12==12.1.3.1 in /usr/local/lib/python3.10/dist-packages (from torch>=1.11.0->sentence-transformers) (12.1.3.1)\n",
            "Requirement already satisfied: nvidia-cufft-cu12==11.0.2.54 in /usr/local/lib/python3.10/dist-packages (from torch>=1.11.0->sentence-transformers) (11.0.2.54)\n",
            "Requirement already satisfied: nvidia-curand-cu12==10.3.2.106 in /usr/local/lib/python3.10/dist-packages (from torch>=1.11.0->sentence-transformers) (10.3.2.106)\n",
            "Requirement already satisfied: nvidia-cusolver-cu12==11.4.5.107 in /usr/local/lib/python3.10/dist-packages (from torch>=1.11.0->sentence-transformers) (11.4.5.107)\n",
            "Requirement already satisfied: nvidia-cusparse-cu12==12.1.0.106 in /usr/local/lib/python3.10/dist-packages (from torch>=1.11.0->sentence-transformers) (12.1.0.106)\n",
            "Requirement already satisfied: nvidia-nccl-cu12==2.19.3 in /usr/local/lib/python3.10/dist-packages (from torch>=1.11.0->sentence-transformers) (2.19.3)\n",
            "Requirement already satisfied: nvidia-nvtx-cu12==12.1.105 in /usr/local/lib/python3.10/dist-packages (from torch>=1.11.0->sentence-transformers) (12.1.105)\n",
            "Requirement already satisfied: triton==2.2.0 in /usr/local/lib/python3.10/dist-packages (from torch>=1.11.0->sentence-transformers) (2.2.0)\n",
            "Requirement already satisfied: nvidia-nvjitlink-cu12 in /usr/local/lib/python3.10/dist-packages (from nvidia-cusolver-cu12==11.4.5.107->torch>=1.11.0->sentence-transformers) (12.4.99)\n",
            "Requirement already satisfied: regex!=2019.12.17 in /usr/local/lib/python3.10/dist-packages (from transformers<5.0.0,>=4.32.0->sentence-transformers) (2023.12.25)\n",
            "Requirement already satisfied: tokenizers<0.19,>=0.14 in /usr/local/lib/python3.10/dist-packages (from transformers<5.0.0,>=4.32.0->sentence-transformers) (0.15.2)\n",
            "Requirement already satisfied: safetensors>=0.4.1 in /usr/local/lib/python3.10/dist-packages (from transformers<5.0.0,>=4.32.0->sentence-transformers) (0.4.2)\n",
            "Requirement already satisfied: joblib>=1.1.1 in /usr/local/lib/python3.10/dist-packages (from scikit-learn->sentence-transformers) (1.3.2)\n",
            "Requirement already satisfied: threadpoolctl>=2.0.0 in /usr/local/lib/python3.10/dist-packages (from scikit-learn->sentence-transformers) (3.4.0)\n",
            "Requirement already satisfied: MarkupSafe>=2.0 in /usr/local/lib/python3.10/dist-packages (from jinja2->torch>=1.11.0->sentence-transformers) (2.1.5)\n",
            "Requirement already satisfied: charset-normalizer<4,>=2 in /usr/local/lib/python3.10/dist-packages (from requests->huggingface-hub>=0.15.1->sentence-transformers) (3.3.2)\n",
            "Requirement already satisfied: idna<4,>=2.5 in /usr/local/lib/python3.10/dist-packages (from requests->huggingface-hub>=0.15.1->sentence-transformers) (3.6)\n",
            "Requirement already satisfied: urllib3<3,>=1.21.1 in /usr/local/lib/python3.10/dist-packages (from requests->huggingface-hub>=0.15.1->sentence-transformers) (2.0.7)\n",
            "Requirement already satisfied: certifi>=2017.4.17 in /usr/local/lib/python3.10/dist-packages (from requests->huggingface-hub>=0.15.1->sentence-transformers) (2024.2.2)\n",
            "Requirement already satisfied: mpmath>=0.19 in /usr/local/lib/python3.10/dist-packages (from sympy->torch>=1.11.0->sentence-transformers) (1.3.0)\n"
          ]
        }
      ],
      "source": [
        "# Скачиваем необходимые библиотеки\n",
        "!pip3 install qdrant-client\n",
        "!pip3 install langchain\n",
        "!pip3 install sentence-transformers"
      ]
    },
    {
      "cell_type": "code",
      "source": [
        "from qdrant_client import QdrantClient\n",
        "from qdrant_client.http import models"
      ],
      "metadata": {
        "id": "zpHi7co45Dmw"
      },
      "execution_count": 2,
      "outputs": []
    },
    {
      "cell_type": "code",
      "source": [
        "# Запускаем Qdrant, создаем коллекцию\n",
        "client = QdrantClient(':memory:')\n",
        "client.create_collection(\n",
        "        collection_name='my_collection',\n",
        "        vectors_config=models.VectorParams(\n",
        "            size=1024,\n",
        "            distance=models.Distance.COSINE\n",
        "        )\n",
        "\n",
        ")"
      ],
      "metadata": {
        "colab": {
          "base_uri": "https://localhost:8080/"
        },
        "id": "j5_dyCTt5ccv",
        "outputId": "79f449e4-9423-4afe-b1a5-4f1d5d3bae84"
      },
      "execution_count": 3,
      "outputs": [
        {
          "output_type": "execute_result",
          "data": {
            "text/plain": [
              "True"
            ]
          },
          "metadata": {},
          "execution_count": 3
        }
      ]
    },
    {
      "cell_type": "code",
      "source": [
        "# Подготавливаем langchain\n",
        "from langchain_community.vectorstores import Qdrant\n",
        "from langchain_community.embeddings import HuggingFaceEmbeddings"
      ],
      "metadata": {
        "id": "wzTqSKen7J0m"
      },
      "execution_count": 4,
      "outputs": []
    },
    {
      "cell_type": "code",
      "source": [
        "# Загружаем модельку\n",
        "embeddings = HuggingFaceEmbeddings(\n",
        "    model_name='intfloat/multilingual-e5-large',\n",
        "    model_kwargs={'device': 'cuda'}\n",
        ")"
      ],
      "metadata": {
        "id": "YoWSs_t98PM4",
        "colab": {
          "base_uri": "https://localhost:8080/"
        },
        "outputId": "b59f015c-ad05-455a-ce57-d13e744baafa"
      },
      "execution_count": 5,
      "outputs": [
        {
          "output_type": "stream",
          "name": "stderr",
          "text": [
            "/usr/local/lib/python3.10/dist-packages/huggingface_hub/utils/_token.py:88: UserWarning: \n",
            "The secret `HF_TOKEN` does not exist in your Colab secrets.\n",
            "To authenticate with the Hugging Face Hub, create a token in your settings tab (https://huggingface.co/settings/tokens), set it as secret in your Google Colab and restart your session.\n",
            "You will be able to reuse this secret in all of your notebooks.\n",
            "Please note that authentication is recommended but still optional to access public models or datasets.\n",
            "  warnings.warn(\n"
          ]
        }
      ]
    },
    {
      "cell_type": "code",
      "source": [
        "from google.colab import drive\n",
        "drive.mount('/content/drive')"
      ],
      "metadata": {
        "colab": {
          "base_uri": "https://localhost:8080/"
        },
        "id": "37tVg6Qy9V2s",
        "outputId": "e97bcf8a-5c5c-406c-fb88-5956b0b1dade"
      },
      "execution_count": 6,
      "outputs": [
        {
          "output_type": "stream",
          "name": "stdout",
          "text": [
            "Drive already mounted at /content/drive; to attempt to forcibly remount, call drive.mount(\"/content/drive\", force_remount=True).\n"
          ]
        }
      ]
    },
    {
      "cell_type": "code",
      "source": [
        "import re\n",
        "import numpy as np\n",
        "# Читаем текст из нашей книжки (использую книгу рассказ, как и во втором задании)\n",
        "text = \"\"\n",
        "with open('drive/MyDrive/LLM_RAG/text.txt', 'r') as f:\n",
        "  lines = [line.strip() for line in f.readlines()]\n",
        "  text = ' '.join(lines)\n",
        "preprocessed_text = re.sub(r'[.?!]+', '.', text)\n",
        "len(preprocessed_text)\n",
        "\n",
        "# Разобьем на сегменты (в сегменте по 3 предложению)\n",
        "sentences = preprocessed_text.split('.')\n",
        "segments = []\n",
        "i = 0\n",
        "while i < len(sentences):\n",
        "  segments.append(' '.join(sentences[i:i+3]))\n",
        "  i += 3\n",
        "len(segments), len(sentences), max([len(segment) for segment in segments])"
      ],
      "metadata": {
        "id": "7lBuw6OI84v8",
        "colab": {
          "base_uri": "https://localhost:8080/"
        },
        "outputId": "afb798de-3489-42e7-b7fe-c7360345939f"
      },
      "execution_count": 7,
      "outputs": [
        {
          "output_type": "execute_result",
          "data": {
            "text/plain": [
              "(290, 870, 983)"
            ]
          },
          "metadata": {},
          "execution_count": 7
        }
      ]
    },
    {
      "cell_type": "code",
      "source": [
        "# Строим эмбеддинги\n",
        "input_texts = ['passage: ' + segment for segment in segments]\n",
        "embedded_values = embeddings.embed_documents(input_texts)"
      ],
      "metadata": {
        "id": "chrJNWp-8b3q"
      },
      "execution_count": 8,
      "outputs": []
    },
    {
      "cell_type": "code",
      "source": [
        "# Закидываем эмбеддинги в нашу векторную БД\n",
        "client.upsert(\n",
        "    collection_name='my_collection',\n",
        "    points=models.Batch(\n",
        "        payloads=[{'sentence': input_texts[i][9:]} for i in range(len(input_texts))],\n",
        "        ids=[i for i  in range(len(input_texts))],\n",
        "        vectors=embedded_values,\n",
        "    ),\n",
        ")"
      ],
      "metadata": {
        "colab": {
          "base_uri": "https://localhost:8080/"
        },
        "id": "k1Zftfqj_0eI",
        "outputId": "b9f21f33-055a-4129-f8d0-55a0543d348b"
      },
      "execution_count": 9,
      "outputs": [
        {
          "output_type": "execute_result",
          "data": {
            "text/plain": [
              "UpdateResult(operation_id=0, status=<UpdateStatus.COMPLETED: 'completed'>)"
            ]
          },
          "metadata": {},
          "execution_count": 9
        }
      ]
    },
    {
      "cell_type": "code",
      "source": [
        "# Создаем langchain обертку для Qdrant и retriever\n",
        "doc_store = Qdrant(client, collection_name='my_collection', embeddings=embeddings, content_payload_key='sentence')\n",
        "retriever = doc_store.as_retriever(search_type='similarity', search_kwargs={'k': 10})"
      ],
      "metadata": {
        "id": "b2BLRZU--Gqd"
      },
      "execution_count": 10,
      "outputs": []
    },
    {
      "cell_type": "code",
      "source": [
        "# Реализуем функцию поиска релевантных документов для входных запросов\n",
        "def get_relevant(retriever, queries):\n",
        "  return [retriever.get_relevant_documents('query: ' + query) for query in queries]\n",
        "relevant_docs = get_relevant(retriever, ['какие дома существуют в столице', 'что местные думают о приезжих'])"
      ],
      "metadata": {
        "id": "bQnS35e6_bo5"
      },
      "execution_count": 11,
      "outputs": []
    },
    {
      "cell_type": "code",
      "source": [
        "# Релевантные предложения для запроса 'какие дома существуют в столице'\n",
        "for i, rdoc in enumerate(relevant_docs[0]):\n",
        "  print(f'{i}) {rdoc.page_content}')"
      ],
      "metadata": {
        "colab": {
          "base_uri": "https://localhost:8080/"
        },
        "id": "RoLZABVIDY7T",
        "outputId": "9164729d-dce6-4eae-9b3b-8dc321f79606"
      },
      "execution_count": 12,
      "outputs": [
        {
          "output_type": "stream",
          "name": "stdout",
          "text": [
            "0)  Теплого и комфортного помещения  Но в столице существует много прекрасных домов с дешевыми и весьма комфортными квартирами, с проведенной невской водой и с освещенной газом лестницей, при которой заводится нередко от хозяев швейцар  Обращаем еще внимание наших читателей и на самое варварство обращения с домашними животными: заезжему крокодилу, разумеется, трудно переварить подобную массу разом, и теперь он лежит, раздутый горой, и в нестерпимых страданиях ожидает смерти\n",
            "1)  Первая попавшаяся мне была — «Листок», газетка без всякого особого направления, а так только вообще гуманная, за что ее преимущественно у нас презирали, хотя и прочитывали  Не без удивления прочел я в ней следующее: «Вчера в нашей обширной и украшенной великолепными зданиями столице распространились чрезвычайные слухи  Некто N\n",
            "2)  В Европе давно уже преследуют судом обращающихся негуманно с домашними животными  Но, несмотря на европейское освещение, на европейские тротуары, на европейскую постройку домов, нам еще долго не отстать от заветных наших предрассудков  Дома новы, но предрассудки стары — и даже и дома-то не новы, по крайней мере лестницы\n",
            "3)  Разве у нас мало животных  Есть зверинцы, музеи, верблюды  Медведи под самым Петербургом живут\n",
            "4)  Вслед за сим первым крокодилом, исчезнувшим в недрах петербургского гастронома, вероятно, не пройдет и года, как навезут их к нам сотнями  И почему бы не акклиматизировать крокодила у нас в России  Если невская вода слишком холодна для сих интересных чужестранцев, то в столице имеются пруды, а за городом речки и озера\n",
            "5)  Почему бы, например, не развести крокодилов в Парголове или в Павловске, в Москве же в Пресненских прудах и в Самотеке  Доставляя приятную и здоровую пищу нашим утонченным гастрономам, они в то же время могли бы увеселять гуляющих на сих прудах дам и поучать собою детей естественной истории  Из крокодиловой кожи можно бы было приготовлять футляры, чемоданы, папиросочницы и бумажники, и, может быть, не одна русская купеческая тысяча в засаленных кредитках, преимущественно предпочитаемых купцами, улеглась бы в крокодиловой коже\n",
            "6)  В квартире его почти никто из нас не был  Вот что я прочел в показанном месте «Волоса»: «Всем известно, что мы прогрессивны и гуманны и хотим угоняться в этом за Европой  Но, несмотря на все наши старания и на усилия нашей газеты, мы еще далеко не „созрели“, как о том свидетельствует возмутительный факт, случившийся вчера в Пассаже и о котором мы заранее предсказывали\n",
            "7)  Внутренность его состоит как бы из огромного пустого мешка, сделанного из резинки, вроде тех резиновых изделий, которые распространены у нас в Гороховой, в Морской и, если не ошибаюсь, на Вознесенском проспекте  Иначе, сообрази, мог ли бы я в нем поместиться  — Возможно ли\n",
            "8)  Надо ее родить  Надо капиталы родить, значит, среднее сословие, так называемую буржуазию надо родить  А так как нет у нас капиталов, значит, надо их из-за границы привлечь\n",
            "9)  Поймут наконец, каким способностям дали исчезнуть в недрах чудовища  «Этот человек мог быть иностранным министром и управлять королевством», — скажут одни  «И этот человек не управлял иностранным королевством», — скажут другие\n"
          ]
        }
      ]
    },
    {
      "cell_type": "code",
      "source": [
        "# Релевантные предложения для запроса 'что местные думают о приезжих'\n",
        "for i, rdoc in enumerate(relevant_docs[1]):\n",
        "  print(f'{i}) {rdoc.page_content}')"
      ],
      "metadata": {
        "colab": {
          "base_uri": "https://localhost:8080/"
        },
        "id": "gTl2LKjXFHdt",
        "outputId": "446834bb-7efe-4278-e4f2-c43c3bc04582"
      },
      "execution_count": 13,
      "outputs": [
        {
          "output_type": "stream",
          "name": "stdout",
          "text": [
            "0)  Не знаем, как и объяснить подобные варварские факты, свидетельствующие о нашей незрелости и марающие нас в глазах иностранцев  Размашистость русской натуры нашла себе достойное применение  Спрашивается, чего хотелось непрошенному посетителю\n",
            "1)  Французы, наехавшие с Лессепсом, предпочитают лапы, испеченные в горячей золе, что делают, впрочем, в пику англичанам, которые над ними смеются  Вероятно, у нас оценят то и другое  С своей стороны, мы рады новой отрасли промышленности, которой по преимуществу недостает нашему сильному и разнообразному отечеству\n",
            "2)  Собираясь в Европу, не худо познакомиться еще на месте с населяющими ее туземцами», — и с сими словами, приняв под ручку свою супругу, тотчас же отправился с нею в Пассаж  Я же, по обыкновению моему, увязался с ними рядом — в виде домашнего друга  Никогда еще я не видел Ивана Матвеича в более приятном расположении духа, как в то памятное для меня утро, — подлинно, что мы не знаем заранее судьбы своей\n",
            "3)  Теперь публикум будет ошень больше ходиль, а я буду фуфциг копеек просиль, и Карльхен перестанет лопаль  — Гот зей данк  — подхватила хозяйка\n",
            "4)  Удастся одному, смотришь, и другой с крокодилом приедет, а третий уж двух и трех зараз привезет, а около них капиталы группируются  Вот и буржуазия  Надобно поощрять-с\n",
            "5)  Ввалившись во внутренность крокодила, незнакомец тотчас же засыпает  Ни крики иностранца-собственника, ни вопли его испуганного семейства, ни угрозы обратиться к полиции не оказывают никакого впечатления Из внутри крокодила слышен лишь хохот и обещание расправиться розгами (sic 1), а бедное млекопитающее, принужденное проглотить такую массу, тщетно проливает слезы  Незваный гость хуже татарина, но, несмотря на пословицу, нахальный посетитель выходить не хочет\n",
            "6)  Удвоенный оклад будет давать средства к приему, а так как прием должен ограничиваться одним чаем и нанятыми лакеями, то и делу конец  И здесь и там будут говорить обо мне  Давно жаждал случая, чтоб все говорили обо мне, но не мог достигнуть, скованный малым значением и недостаточным чином\n",
            "7)  — Вечером за вход опять четвертак  — крикнул нам вслед хозяин  — О боже, как они жадны\n",
            "8)  Такая идея приводит меня в бешенство  Уже по одной этой причине надо бы изменить тариф и поощрять привоз сукон английских, которые крепче, а следственно, и дольше будут сопротивляться природе, в случае если попадешь в крокодила  При первом случае сообщу мысль мою кому-либо из людей государственных, а вместе с тем и политическим обозревателям наших ежедневных петербургских газет\n",
            "9)  Приезжает в столицу иностранец-собственник и привозит с собой крокодила, которого и начинает показывать в Пассаже публике  Мы тотчас же поспешили приветствовать новую отрасль полезной промышленности, которой вообще недостает нашему сильному и разнообразному отечеству  Как вдруг вчера, в половине пятого пополудни, в магазин иностранца-собственника является некто необычайной толщины и в нетрезвом виде, платит за вход и тотчас же, безо всякого предуведомления, лезет в пасть крокодила, который, разумеется, принужден был проглотить его, хотя бы из чувства самосохранения, чтоб не подавиться\n"
          ]
        }
      ]
    },
    {
      "cell_type": "code",
      "source": [],
      "metadata": {
        "id": "eEBoMRiPFLky"
      },
      "execution_count": 13,
      "outputs": []
    }
  ]
}